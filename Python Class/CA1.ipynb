{
 "cells": [
  {
   "cell_type": "code",
   "execution_count": null,
   "metadata": {},
   "outputs": [],
   "source": [
    "\n",
    "import numpy as np #1\n",
    "import pandas as pd\n",
    "df=pd.read_csv(\"W:/Study/2nd SEM/ICTE102/PowerConsumption_India (1).csv\")\n",
    "print(df)"
   ]
  },
  {
   "cell_type": "code",
   "execution_count": null,
   "metadata": {},
   "outputs": [],
   "source": [
    "df[\"Total_Power_Consumption\"]=df.sum(axis=1) print(df)        #2\n",
    "print(df)"
   ]
  },
  {
   "cell_type": "code",
   "execution_count": null,
   "metadata": {},
   "outputs": [],
   "source": [
    "a=pd.DataFrame (df['MP'])\n",
    "b=df[\"Total_Power_Consumption\"]\n",
    "a.insert(1, \"Total_Power_Consumption\", b)\n",
    "print(a)"
   ]
  },
  {
   "cell_type": "code",
   "execution_count": null,
   "metadata": {},
   "outputs": [],
   "source": [
    "import numpy as np    #4\n",
    "import pandas as pd\n",
    "df=pd.read_csv(\"W:/Study/2nd SEM/ICTE102/PowerConsumption_India (1).csv\")\n",
    "print(df)\n",
    "df[\"Total_Power_Consumption\"]=df.sum(axis=1)\n",
    "print(df)\n",
    "my_state = df['MP']\n",
    "df['D & T'] = pd.to_datetime(df['D & T'], errors='coerce')\n",
    "df['Month'] = df['D & T'].dt.month\n",
    "grouped = df.groupby('Month')\n",
    "monthly_mean grouped.mean()\n",
    "stuff = {'Mean for MP':monthly_mean['MP'], 'Mean of total consumption nationally':monthly_mean['Total_Power_Consumption']}\n",
    "dataframe = pd.DataFrame (stuff)\n",
    "print(dataframe)"
   ]
  },
  {
   "cell_type": "code",
   "execution_count": null,
   "metadata": {},
   "outputs": [],
   "source": [
    "import matplotlib.pyplot as plt #5\n",
    "india_total = a['Total_Power_Consumption'].sum()\n",
    "my_state = a['MP']\n",
    "my_state_total = my_state.sum()\n",
    "india_without_my_state = india_total my_state_total\n",
    "print(my_state_total)\n",
    "print(india_without_my_state)\n",
    "labels = ['MP', 'Rest of the country']\n",
    "sizes = [my_state_total,india_without_my_state]\n",
    "colors = ['red', 'orange']\n",
    "explode = (0.1, 0)\n",
    "plt.pie(sizes, explode=explode, labels labels, colors colors, autopct='%1.1f%%', shadow=True, startangle=0)\n",
    "plt.axis('equal')\n",
    "plt.legend(loc=\"best\")\n",
    "plt.title('Power Consumption Comparism')\n",
    "plt.show()"
   ]
  }
 ],
 "metadata": {
  "language_info": {
   "name": "python"
  },
  "orig_nbformat": 4
 },
 "nbformat": 4,
 "nbformat_minor": 2
}
